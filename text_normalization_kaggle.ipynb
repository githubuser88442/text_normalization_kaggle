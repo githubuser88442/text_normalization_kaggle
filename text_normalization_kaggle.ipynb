{
 "cells": [
  {
   "cell_type": "code",
   "execution_count": 39,
   "metadata": {
    "ExecuteTime": {
     "end_time": "2018-09-07T19:39:23.786030Z",
     "start_time": "2018-09-07T19:39:23.783021Z"
    }
   },
   "outputs": [],
   "source": [
    "# https://www.kaggle.com/c/text-normalization-challenge-english-language"
   ]
  },
  {
   "cell_type": "code",
   "execution_count": 21,
   "metadata": {
    "ExecuteTime": {
     "end_time": "2018-09-07T19:27:43.594330Z",
     "start_time": "2018-09-07T19:27:43.590818Z"
    }
   },
   "outputs": [],
   "source": [
    "import pickle as pkl\n",
    "import numpy as np\n",
    "from pathlib import Path\n",
    "import csv\n",
    "from sklearn.model_selection import train_test_split"
   ]
  },
  {
   "cell_type": "code",
   "execution_count": 26,
   "metadata": {
    "ExecuteTime": {
     "end_time": "2018-09-07T19:29:06.877568Z",
     "start_time": "2018-09-07T19:29:06.623707Z"
    }
   },
   "outputs": [],
   "source": [
    "PATH = Path('DATA')\n",
    "x, y = [], []"
   ]
  },
  {
   "cell_type": "markdown",
   "metadata": {},
   "source": [
    "### Read data"
   ]
  },
  {
   "cell_type": "code",
   "execution_count": 27,
   "metadata": {
    "ExecuteTime": {
     "end_time": "2018-09-07T19:29:35.185282Z",
     "start_time": "2018-09-07T19:29:06.880580Z"
    }
   },
   "outputs": [
    {
     "name": "stdout",
     "output_type": "stream",
     "text": [
      "Num examples: 9918441 9918441\n",
      "Num classes:  471587\n"
     ]
    }
   ],
   "source": [
    "with open(PATH/'kaggle_data/en_train.csv', newline='', encoding='utf8') as csvfile:\n",
    "    spamreader = csv.reader(csvfile, delimiter=',')\n",
    "    for i, row in enumerate(spamreader):\n",
    "        if i > 0:\n",
    "            x.append(row[3])\n",
    "            y.append(row[4])\n",
    "\n",
    "print('Num examples:', len(x), len(y))\n",
    "print('Num classes: ', len(set(y)))\n",
    "\n",
    "\n",
    "x_trn, x_val, y_trn, y_val = train_test_split(x, y, test_size=0.05, random_state=42)\n",
    "pkl.dump([x_trn, y_trn, x_val, y_val], open(PATH/'xt_yt_xv_yv.pkl', 'wb'))"
   ]
  },
  {
   "cell_type": "code",
   "execution_count": null,
   "metadata": {},
   "outputs": [],
   "source": []
  },
  {
   "cell_type": "markdown",
   "metadata": {},
   "source": [
    "### Load data"
   ]
  },
  {
   "cell_type": "code",
   "execution_count": 32,
   "metadata": {
    "ExecuteTime": {
     "end_time": "2018-09-07T19:34:53.943532Z",
     "start_time": "2018-09-07T19:34:51.222495Z"
    }
   },
   "outputs": [],
   "source": [
    "NUM_CLASSES = 471587\n",
    "with open(PATH/'xt_yt_xv_yv.pkl', 'rb') as f:\n",
    "    x_trn, y_trn, x_val, y_val = pkl.load(f)"
   ]
  },
  {
   "cell_type": "markdown",
   "metadata": {
    "heading_collapsed": true
   },
   "source": [
    "#### Inspect data"
   ]
  },
  {
   "cell_type": "code",
   "execution_count": 38,
   "metadata": {
    "ExecuteTime": {
     "end_time": "2018-09-07T19:37:58.094496Z",
     "start_time": "2018-09-07T19:37:58.086469Z"
    },
    "hidden": true
   },
   "outputs": [
    {
     "name": "stdout",
     "output_type": "stream",
     "text": [
      "\n",
      "############## Train data:\n",
      ", - ,\n",
      "is - is\n",
      "then - then\n",
      "D - D\n",
      "Mark - Mark\n",
      ": - :\n",
      "1914 - nineteen fourteen\n",
      "; - ;\n",
      "is - is\n",
      "\" - \"\n",
      "in - in\n",
      "left - left\n",
      ". - .\n",
      ": - :\n",
      "and - and\n",
      "The - The\n",
      ", - ,\n",
      "seat - seat\n",
      "into - into\n",
      "commission - commission\n",
      "Kickstarter - Kickstarter\n",
      "viewed - viewed\n",
      "books - books\n",
      "survival - survival\n",
      "A - A\n",
      "they - they\n",
      "cities - cities\n",
      ". - .\n",
      "Veil - Veil\n",
      "Hall - Hall\n",
      "realises - realizes\n",
      "in - in\n",
      "in - in\n",
      ") - )\n",
      "The - The\n",
      "RT - r t\n",
      ". - .\n",
      "area - area\n",
      "17 - seventeen\n",
      "Aimée - a i m e acute e\n",
      "left - left\n",
      ". - .\n",
      "up - up\n",
      "機 - 機\n",
      "- - -\n",
      "Sculpture - Sculpture\n",
      "chapter - chapter\n",
      "Rose - Rose\n",
      "pink - pink\n",
      "with - with\n",
      "\n",
      "############## Val data:\n",
      ", - ,\n",
      ", - ,\n",
      "signed - signed\n",
      "semifinalists - semifinalists\n",
      "Weemie - Weemie\n",
      "LED - LED\n",
      "squirrels - squirrels\n",
      "third - third\n",
      "though - though\n",
      "he - he\n",
      "Parliament - Parliament\n",
      "Fungorum - Fungorum\n",
      "although - although\n",
      ". - .\n",
      "\" - \"\n",
      ", - ,\n",
      ". - .\n",
      "seven - seven\n",
      "Lecithoceridae - Lecithoceridae\n",
      "Spaniards - Spaniards\n",
      "spending - spending\n",
      "1073 - ten seventy three\n",
      "The - The\n",
      "of - of\n",
      ", - ,\n",
      "Live - Live\n",
      "resort - resort\n",
      ", - ,\n",
      "from - from\n",
      "Fr - f r\n",
      "Wired - Wired\n",
      "were - were\n",
      "sessions - sessions\n",
      "of - of\n",
      "dead - dead\n",
      "\" - \"\n",
      "the - the\n",
      "suggested - suggested\n",
      "Psychology - Psychology\n",
      "was - was\n",
      "Class - Class\n",
      "Star - Star\n",
      "( - (\n",
      "counciler - counciler\n",
      "\" - \"\n",
      "trustee - trustee\n",
      ". - .\n",
      "legendary - legendary\n",
      ", - ,\n",
      "Mall - Mall\n"
     ]
    }
   ],
   "source": [
    "v = 50\n",
    "print('\\n############## Train data:')\n",
    "for i in range(v):\n",
    "    print(x_trn[i], '-', y_trn[i])\n",
    "    \n",
    "print('\\n############## Val data:')\n",
    "for i in range(v):\n",
    "    print(x_val[i], '-', y_val[i])"
   ]
  },
  {
   "cell_type": "markdown",
   "metadata": {},
   "source": [
    "#### Tokenize data"
   ]
  },
  {
   "cell_type": "code",
   "execution_count": null,
   "metadata": {},
   "outputs": [],
   "source": [
    "# TODO"
   ]
  }
 ],
 "metadata": {
  "kernelspec": {
   "display_name": "Python 3",
   "language": "python",
   "name": "python3"
  },
  "language_info": {
   "codemirror_mode": {
    "name": "ipython",
    "version": 3
   },
   "file_extension": ".py",
   "mimetype": "text/x-python",
   "name": "python",
   "nbconvert_exporter": "python",
   "pygments_lexer": "ipython3",
   "version": "3.6.4"
  }
 },
 "nbformat": 4,
 "nbformat_minor": 2
}
