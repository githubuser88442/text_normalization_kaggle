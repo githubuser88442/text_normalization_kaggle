{
 "cells": [
  {
   "cell_type": "code",
   "execution_count": 1,
   "metadata": {
    "ExecuteTime": {
     "end_time": "2018-09-09T23:34:30.110858Z",
     "start_time": "2018-09-09T23:34:30.108854Z"
    }
   },
   "outputs": [],
   "source": [
    "# https://www.kaggle.com/c/text-normalization-challenge-english-language"
   ]
  },
  {
   "cell_type": "code",
   "execution_count": 4,
   "metadata": {
    "ExecuteTime": {
     "end_time": "2018-09-11T21:32:24.603417Z",
     "start_time": "2018-09-11T21:32:24.596895Z"
    }
   },
   "outputs": [],
   "source": [
    "import pickle as pkl\n",
    "import numpy as np\n",
    "from pathlib import Path\n",
    "import csv\n",
    "from sklearn.model_selection import train_test_split\n",
    "import itertools\n",
    "from keras.preprocessing.text import Tokenizer\n",
    "from keras.preprocessing.sequence import pad_sequences\n",
    "from keras.utils import to_categorical\n",
    "from tqdm import tqdm\n",
    "\n",
    "from keras.models import Model\n",
    "from keras.layers import Input, CuDNNLSTM, Dense"
   ]
  },
  {
   "cell_type": "code",
   "execution_count": 36,
   "metadata": {
    "ExecuteTime": {
     "end_time": "2018-09-11T21:54:40.560758Z",
     "start_time": "2018-09-11T21:54:40.557247Z"
    }
   },
   "outputs": [],
   "source": [
    "PATH = Path('DATA')\n",
    "NUM_CLASSES = 100\n",
    "MAX_LEN = 50\n",
    "SEQ_LEN = MAX_LEN + 2\n",
    "NUM_TOKENS = NUM_CLASSES + 2"
   ]
  },
  {
   "cell_type": "markdown",
   "metadata": {
    "heading_collapsed": true
   },
   "source": [
    "## Read data"
   ]
  },
  {
   "cell_type": "code",
   "execution_count": 3,
   "metadata": {
    "ExecuteTime": {
     "end_time": "2018-09-10T08:34:20.401332Z",
     "start_time": "2018-09-10T08:34:08.631151Z"
    },
    "hidden": true
   },
   "outputs": [
    {
     "name": "stdout",
     "output_type": "stream",
     "text": [
      "Num examples: 9918441 9918441\n",
      "Num classes:  471587\n"
     ]
    }
   ],
   "source": [
    "x, y = [], []\n",
    "with open(PATH/'kaggle_data/en_train.csv', newline='', encoding='utf8') as csvfile:\n",
    "    spamreader = csv.reader(csvfile, delimiter=',')\n",
    "    for i, row in enumerate(spamreader):\n",
    "        if i > 0:\n",
    "            x.append(row[3])\n",
    "            y.append(row[4])\n",
    "\n",
    "print('Num examples:', len(x), len(y))\n",
    "print('Num classes: ', len(set(y)))\n",
    "\n",
    "\n",
    "#x_trn, x_val, y_trn, y_val = train_test_split(x, y, test_size=0.05, random_state=42)\n",
    "#pkl.dump([x_trn, y_trn, x_val, y_val], open(PATH/'xt_yt_xv_yv.pkl', 'wb'))"
   ]
  },
  {
   "cell_type": "markdown",
   "metadata": {
    "heading_collapsed": true
   },
   "source": [
    "## Process data"
   ]
  },
  {
   "cell_type": "markdown",
   "metadata": {
    "heading_collapsed": true,
    "hidden": true
   },
   "source": [
    "#### Inspect data"
   ]
  },
  {
   "cell_type": "code",
   "execution_count": 50,
   "metadata": {
    "ExecuteTime": {
     "end_time": "2018-09-08T09:13:23.403720Z",
     "start_time": "2018-09-08T09:13:23.399711Z"
    },
    "hidden": true
   },
   "outputs": [
    {
     "name": "stdout",
     "output_type": "stream",
     "text": [
      "\n",
      "############## Train data:\n",
      "2006 - two thousand six\n",
      "IUCN - i u c n\n",
      "Red - Red\n",
      "List - List\n",
      "of - of\n"
     ]
    }
   ],
   "source": [
    "print('\\n############## Train data:')\n",
    "for i in range(10, 15):\n",
    "    print(x[i], '-', y[i])"
   ]
  },
  {
   "cell_type": "code",
   "execution_count": 51,
   "metadata": {
    "ExecuteTime": {
     "end_time": "2018-09-08T09:13:46.363732Z",
     "start_time": "2018-09-08T09:13:44.647778Z"
    },
    "hidden": true
   },
   "outputs": [
    {
     "name": "stdout",
     "output_type": "stream",
     "text": [
      "1057\n",
      "3767\n"
     ]
    }
   ],
   "source": [
    "# Get longest words\n",
    "print(max([len(x) for x in x]))\n",
    "print(max([len(x) for x in y]))\n",
    "# Clearly has some abnormally long sequences "
   ]
  },
  {
   "cell_type": "code",
   "execution_count": 52,
   "metadata": {
    "ExecuteTime": {
     "end_time": "2018-09-08T09:13:57.709637Z",
     "start_time": "2018-09-08T09:13:54.159259Z"
    },
    "hidden": true
   },
   "outputs": [],
   "source": [
    "sorted_len_x = sorted(x, key=len)\n",
    "sorted_len_y = sorted(y, key=len)"
   ]
  },
  {
   "cell_type": "code",
   "execution_count": 53,
   "metadata": {
    "ExecuteTime": {
     "end_time": "2018-09-08T09:13:58.980660Z",
     "start_time": "2018-09-08T09:13:58.977654Z"
    },
    "hidden": true
   },
   "outputs": [
    {
     "name": "stdout",
     "output_type": "stream",
     "text": [
      "http://cfpub.epa.gov/ncea/iris/index.cfm\n",
      "nine trillion seven hundred eighty billion eight hundred four million seven hundred thirty seven thousand seven hundred forty six\n"
     ]
    }
   ],
   "source": [
    "# The outputs contain links and very long numbers, the character based model should have around 130 max characters\n",
    "print(sorted_len_x[-650])\n",
    "print(sorted_len_y[-650])"
   ]
  },
  {
   "cell_type": "markdown",
   "metadata": {
    "heading_collapsed": true,
    "hidden": true
   },
   "source": [
    "#### Tokenize data"
   ]
  },
  {
   "cell_type": "code",
   "execution_count": 4,
   "metadata": {
    "ExecuteTime": {
     "end_time": "2018-09-10T08:36:06.881221Z",
     "start_time": "2018-09-10T08:34:20.402837Z"
    },
    "hidden": true
   },
   "outputs": [
    {
     "name": "stderr",
     "output_type": "stream",
     "text": [
      "9918441it [00:08, 1192725.56it/s]\n"
     ]
    },
    {
     "name": "stdout",
     "output_type": "stream",
     "text": [
      "19\n"
     ]
    }
   ],
   "source": [
    "x_t = []\n",
    "y_t = []\n",
    "\n",
    "for it, (xi, yi) in tqdm(enumerate(zip(x, y))):\n",
    "    # We use \"tab\" as the \"start sequence\" character\n",
    "    # for the targets, and \"\\n\" as \"end sequence\" character.\n",
    "    if len(xi) <= MAX_LEN and len(yi) <= MAX_LEN:\n",
    "        yi = '\\t' + yi + '\\n'\n",
    "        y_t.append(yi)\n",
    "        x_t.append(xi)\n",
    "            \n",
    "tokenizer = Tokenizer(num_words=NUM_CLASSES, filters='!\"#$%&()*+,-./:;<=>?@[\\]^_`{|}~',\n",
    "          lower=True, split='', char_level=True, oov_token='OOV')\n",
    "\n",
    "tokenizer.fit_on_texts(x_t + y_t)\n",
    "x_t = tokenizer.texts_to_sequences(x_t)\n",
    "y_t = tokenizer.texts_to_sequences(y_t)\n",
    "print(tokenizer.word_index['p'])"
   ]
  },
  {
   "cell_type": "code",
   "execution_count": 5,
   "metadata": {
    "ExecuteTime": {
     "end_time": "2018-09-10T08:37:33.765645Z",
     "start_time": "2018-09-10T08:36:06.882726Z"
    },
    "hidden": true
   },
   "outputs": [],
   "source": [
    "# Pre pad x and post pad y\n",
    "x_t_p = pad_sequences(x_t, maxlen=MAX_LEN+2, dtype='int32', padding='pre', truncating='post', value=0)\n",
    "y_t_p = pad_sequences(y_t, maxlen=MAX_LEN+2, dtype='int32', padding='post', truncating='post', value=0)"
   ]
  },
  {
   "cell_type": "code",
   "execution_count": 6,
   "metadata": {
    "ExecuteTime": {
     "end_time": "2018-09-10T08:37:33.806784Z",
     "start_time": "2018-09-10T08:37:33.777685Z"
    },
    "hidden": true
   },
   "outputs": [
    {
     "name": "stdout",
     "output_type": "stream",
     "text": [
      "3\n",
      "[ 0  0  0  0  0  0  0  0  0  0  0  0  0  0  0  0  0  0  0  0  0  0  0  0\n",
      "  0  0  0  0  0  0  0  0  0  0  0  0  0  0  0  0  0  6 15  6  7  5 12  6\n",
      " 15  2  6  2] (52,)\n",
      "[ 3  6 15  6  7  5 12  6 15  2  6  2  4  0  0  0  0  0  0  0  0  0  0  0\n",
      "  0  0  0  0  0  0  0  0  0  0  0  0  0  0  0  0  0  0  0  0  0  0  0  0\n",
      "  0  0  0  0] (52,)\n"
     ]
    }
   ],
   "source": [
    "print(tokenizer.word_index['\\t'])\n",
    "ind=8\n",
    "print(x_t_p[ind], x_t_p[ind].shape)\n",
    "print(y_t_p[ind], y_t_p[ind].shape)"
   ]
  },
  {
   "cell_type": "code",
   "execution_count": 134,
   "metadata": {
    "ExecuteTime": {
     "end_time": "2018-09-10T09:10:38.141145Z",
     "start_time": "2018-09-10T09:10:23.459449Z"
    },
    "hidden": true
   },
   "outputs": [],
   "source": [
    "encoder_input_data = x_t_p\n",
    "decoder_input_data = y_t_p\n",
    "decoder_target_data = np.zeros_like(decoder_input_data)\n",
    "\n",
    "for i, val in enumerate(decoder_input_data):\n",
    "    decoder_target_data[i][1:] = decoder_input_data[i][:-1]"
   ]
  },
  {
   "cell_type": "code",
   "execution_count": 139,
   "metadata": {
    "ExecuteTime": {
     "end_time": "2018-09-10T09:11:51.173576Z",
     "start_time": "2018-09-10T09:11:51.164545Z"
    },
    "hidden": true
   },
   "outputs": [
    {
     "name": "stdout",
     "output_type": "stream",
     "text": [
      "[ 3 25 10  8 13 13  6  7  5  6  8 11  8  6  4  0  0  0  0  0  0  0  0  0\n",
      "  0  0  0  0  0  0  0  0  0  0  0  0  0  0  0  0  0  0  0  0  0  0  0  0\n",
      "  0  0  0  0]\n",
      "[ 0  3 25 10  8 13 13  6  7  5  6  8 11  8  6  4  0  0  0  0  0  0  0  0\n",
      "  0  0  0  0  0  0  0  0  0  0  0  0  0  0  0  0  0  0  0  0  0  0  0  0\n",
      "  0  0  0  0]\n"
     ]
    }
   ],
   "source": [
    "print(decoder_input_data[0])\n",
    "print(decoder_target_data[0])"
   ]
  },
  {
   "cell_type": "code",
   "execution_count": 143,
   "metadata": {
    "ExecuteTime": {
     "end_time": "2018-09-10T09:19:39.088293Z",
     "start_time": "2018-09-10T09:19:26.131728Z"
    },
    "hidden": true
   },
   "outputs": [],
   "source": [
    "np.savez(open(PATH/'pkl/enci_deci_dect.npz', 'wb'), encoder_input_data, decoder_input_data, decoder_target_data)"
   ]
  },
  {
   "cell_type": "code",
   "execution_count": 129,
   "metadata": {
    "ExecuteTime": {
     "end_time": "2018-09-08T12:02:49.047898Z",
     "start_time": "2018-09-08T12:02:42.705882Z"
    },
    "hidden": true
   },
   "outputs": [],
   "source": [
    "# x_trn, x_val, y_trn, y_val = train_test_split(x_p_t, y_p_t, test_size=0.05, random_state=42)"
   ]
  },
  {
   "cell_type": "code",
   "execution_count": 135,
   "metadata": {
    "ExecuteTime": {
     "end_time": "2018-09-08T12:05:05.010166Z",
     "start_time": "2018-09-08T12:04:50.691396Z"
    },
    "hidden": true
   },
   "outputs": [],
   "source": [
    "# pkl.dump([x_trn, y_trn, x_val, y_val], open(PATH/'xt_yt_xv_yv.pkl', 'wb'), protocol=4)"
   ]
  },
  {
   "cell_type": "markdown",
   "metadata": {},
   "source": [
    "## Load data"
   ]
  },
  {
   "cell_type": "code",
   "execution_count": 28,
   "metadata": {
    "ExecuteTime": {
     "end_time": "2018-09-11T21:52:55.709044Z",
     "start_time": "2018-09-11T21:52:46.839268Z"
    }
   },
   "outputs": [],
   "source": [
    "with open(PATH/'pkl/enci_deci_dect.npz', 'rb') as f:\n",
    "    arrs  = np.load(f)\n",
    "    encoder_input_data = arrs['arr_0']\n",
    "    decoder_input_data = arrs['arr_1']\n",
    "    decoder_target_data = arrs['arr_2']"
   ]
  },
  {
   "cell_type": "code",
   "execution_count": 50,
   "metadata": {
    "ExecuteTime": {
     "end_time": "2018-09-11T21:57:53.584248Z",
     "start_time": "2018-09-11T21:57:53.581237Z"
    }
   },
   "outputs": [],
   "source": [
    "encoder_input_data = np.expand_dims(encoder_input_data, axis=-1)\n",
    "decoder_input_data = np.expand_dims(decoder_input_data, axis=-1)\n",
    "decoder_target_data = np.expand_dims(decoder_target_data, axis=-1)"
   ]
  },
  {
   "cell_type": "code",
   "execution_count": 10,
   "metadata": {
    "ExecuteTime": {
     "end_time": "2018-09-10T07:15:04.247275Z",
     "start_time": "2018-09-10T07:14:57.706510Z"
    }
   },
   "outputs": [],
   "source": [
    "# with open(PATH/'pkl/xt_yt_xv_yv.pkl', 'rb') as f:\n",
    "#     x_trn, y_trn, x_val, y_val = pkl.load(f)"
   ]
  },
  {
   "cell_type": "markdown",
   "metadata": {},
   "source": [
    "## Model"
   ]
  },
  {
   "cell_type": "code",
   "execution_count": 18,
   "metadata": {
    "ExecuteTime": {
     "end_time": "2018-09-11T21:46:56.662707Z",
     "start_time": "2018-09-11T21:46:56.660199Z"
    }
   },
   "outputs": [],
   "source": [
    "h_size = 256\n",
    "bs = 64"
   ]
  },
  {
   "cell_type": "code",
   "execution_count": 56,
   "metadata": {
    "ExecuteTime": {
     "end_time": "2018-09-11T21:59:53.256755Z",
     "start_time": "2018-09-11T21:59:52.813237Z"
    }
   },
   "outputs": [],
   "source": [
    "# Define an input sequence and process it.\n",
    "encoder_inp = Input(shape=(SEQ_LEN, 1))\n",
    "encoder = CuDNNLSTM(h_size, return_state=True)\n",
    "encoder_out, state_h, state_c = encoder(encoder_inp)\n",
    "# We discard `encoder_outputs` and only keep the states.\n",
    "encoder_states = [state_h, state_c]\n",
    "\n",
    "# Set up the decoder, using `encoder_states` as initial state.\n",
    "decoder_inp = Input(shape=(SEQ_LEN, 1))\n",
    "# We set up our decoder to return full output sequences,\n",
    "# and to return internal states as well. We don't use the \n",
    "# return states in the training model, but we will use them in inference.\n",
    "decoder_lstm = CuDNNLSTM(h_size, return_sequences=True, return_state=True)\n",
    "decoder_out, _, _ = decoder_lstm(decoder_inp, initial_state=encoder_states)\n",
    "decoder_dense = Dense(1, activation='softmax')\n",
    "decoder_out = decoder_dense(decoder_out)"
   ]
  },
  {
   "cell_type": "code",
   "execution_count": 57,
   "metadata": {
    "ExecuteTime": {
     "end_time": "2018-09-11T21:59:53.260268Z",
     "start_time": "2018-09-11T21:59:53.257759Z"
    }
   },
   "outputs": [],
   "source": [
    "model = Model([encoder_inputs, decoder_inputs], decoder_outputs)"
   ]
  },
  {
   "cell_type": "code",
   "execution_count": 58,
   "metadata": {
    "ExecuteTime": {
     "end_time": "2018-09-11T21:59:53.503084Z",
     "start_time": "2018-09-11T21:59:53.469972Z"
    }
   },
   "outputs": [
    {
     "ename": "ValueError",
     "evalue": "Error when checking input: expected input_6 to have shape (None, 102) but got array with shape (52, 1)",
     "output_type": "error",
     "traceback": [
      "\u001b[1;31m---------------------------------------------------------------------------\u001b[0m",
      "\u001b[1;31mValueError\u001b[0m                                Traceback (most recent call last)",
      "\u001b[1;32m<ipython-input-58-98050d9dde0e>\u001b[0m in \u001b[0;36m<module>\u001b[1;34m()\u001b[0m\n\u001b[0;32m      3\u001b[0m           \u001b[0mbatch_size\u001b[0m\u001b[1;33m=\u001b[0m\u001b[0mbs\u001b[0m\u001b[1;33m,\u001b[0m\u001b[1;33m\u001b[0m\u001b[0m\n\u001b[0;32m      4\u001b[0m           \u001b[0mepochs\u001b[0m\u001b[1;33m=\u001b[0m\u001b[1;36m10\u001b[0m\u001b[1;33m,\u001b[0m\u001b[1;33m\u001b[0m\u001b[0m\n\u001b[1;32m----> 5\u001b[1;33m           validation_split=0.2)\n\u001b[0m",
      "\u001b[1;32m~\\Anaconda3\\lib\\site-packages\\keras\\engine\\training.py\u001b[0m in \u001b[0;36mfit\u001b[1;34m(self, x, y, batch_size, epochs, verbose, callbacks, validation_split, validation_data, shuffle, class_weight, sample_weight, initial_epoch, steps_per_epoch, validation_steps, **kwargs)\u001b[0m\n\u001b[0;32m    948\u001b[0m             \u001b[0msample_weight\u001b[0m\u001b[1;33m=\u001b[0m\u001b[0msample_weight\u001b[0m\u001b[1;33m,\u001b[0m\u001b[1;33m\u001b[0m\u001b[0m\n\u001b[0;32m    949\u001b[0m             \u001b[0mclass_weight\u001b[0m\u001b[1;33m=\u001b[0m\u001b[0mclass_weight\u001b[0m\u001b[1;33m,\u001b[0m\u001b[1;33m\u001b[0m\u001b[0m\n\u001b[1;32m--> 950\u001b[1;33m             batch_size=batch_size)\n\u001b[0m\u001b[0;32m    951\u001b[0m         \u001b[1;31m# Prepare validation data.\u001b[0m\u001b[1;33m\u001b[0m\u001b[1;33m\u001b[0m\u001b[0m\n\u001b[0;32m    952\u001b[0m         \u001b[0mdo_validation\u001b[0m \u001b[1;33m=\u001b[0m \u001b[1;32mFalse\u001b[0m\u001b[1;33m\u001b[0m\u001b[0m\n",
      "\u001b[1;32m~\\Anaconda3\\lib\\site-packages\\keras\\engine\\training.py\u001b[0m in \u001b[0;36m_standardize_user_data\u001b[1;34m(self, x, y, sample_weight, class_weight, check_array_lengths, batch_size)\u001b[0m\n\u001b[0;32m    747\u001b[0m             \u001b[0mfeed_input_shapes\u001b[0m\u001b[1;33m,\u001b[0m\u001b[1;33m\u001b[0m\u001b[0m\n\u001b[0;32m    748\u001b[0m             \u001b[0mcheck_batch_axis\u001b[0m\u001b[1;33m=\u001b[0m\u001b[1;32mFalse\u001b[0m\u001b[1;33m,\u001b[0m  \u001b[1;31m# Don't enforce the batch size.\u001b[0m\u001b[1;33m\u001b[0m\u001b[0m\n\u001b[1;32m--> 749\u001b[1;33m             exception_prefix='input')\n\u001b[0m\u001b[0;32m    750\u001b[0m \u001b[1;33m\u001b[0m\u001b[0m\n\u001b[0;32m    751\u001b[0m         \u001b[1;32mif\u001b[0m \u001b[0my\u001b[0m \u001b[1;32mis\u001b[0m \u001b[1;32mnot\u001b[0m \u001b[1;32mNone\u001b[0m\u001b[1;33m:\u001b[0m\u001b[1;33m\u001b[0m\u001b[0m\n",
      "\u001b[1;32m~\\Anaconda3\\lib\\site-packages\\keras\\engine\\training_utils.py\u001b[0m in \u001b[0;36mstandardize_input_data\u001b[1;34m(data, names, shapes, check_batch_axis, exception_prefix)\u001b[0m\n\u001b[0;32m    135\u001b[0m                             \u001b[1;34m': expected '\u001b[0m \u001b[1;33m+\u001b[0m \u001b[0mnames\u001b[0m\u001b[1;33m[\u001b[0m\u001b[0mi\u001b[0m\u001b[1;33m]\u001b[0m \u001b[1;33m+\u001b[0m \u001b[1;34m' to have shape '\u001b[0m \u001b[1;33m+\u001b[0m\u001b[1;33m\u001b[0m\u001b[0m\n\u001b[0;32m    136\u001b[0m                             \u001b[0mstr\u001b[0m\u001b[1;33m(\u001b[0m\u001b[0mshape\u001b[0m\u001b[1;33m)\u001b[0m \u001b[1;33m+\u001b[0m \u001b[1;34m' but got array with shape '\u001b[0m \u001b[1;33m+\u001b[0m\u001b[1;33m\u001b[0m\u001b[0m\n\u001b[1;32m--> 137\u001b[1;33m                             str(data_shape))\n\u001b[0m\u001b[0;32m    138\u001b[0m     \u001b[1;32mreturn\u001b[0m \u001b[0mdata\u001b[0m\u001b[1;33m\u001b[0m\u001b[0m\n\u001b[0;32m    139\u001b[0m \u001b[1;33m\u001b[0m\u001b[0m\n",
      "\u001b[1;31mValueError\u001b[0m: Error when checking input: expected input_6 to have shape (None, 102) but got array with shape (52, 1)"
     ]
    }
   ],
   "source": [
    "model.compile(optimizer='adam', loss='sparse_categorical_crossentropy')\n",
    "model.fit([encoder_input_data, decoder_input_data], decoder_target_data,\n",
    "          batch_size=bs,\n",
    "          epochs=10,\n",
    "          validation_split=0.2)"
   ]
  },
  {
   "cell_type": "markdown",
   "metadata": {},
   "source": [
    "# Notes\n",
    "\n",
    "- Technically shouldn't lower case tokens\n",
    "- Use an embedding layer perhaps"
   ]
  },
  {
   "cell_type": "code",
   "execution_count": null,
   "metadata": {},
   "outputs": [],
   "source": []
  }
 ],
 "metadata": {
  "kernelspec": {
   "display_name": "Python 3",
   "language": "python",
   "name": "python3"
  },
  "language_info": {
   "codemirror_mode": {
    "name": "ipython",
    "version": 3
   },
   "file_extension": ".py",
   "mimetype": "text/x-python",
   "name": "python",
   "nbconvert_exporter": "python",
   "pygments_lexer": "ipython3",
   "version": "3.6.4"
  }
 },
 "nbformat": 4,
 "nbformat_minor": 2
}
