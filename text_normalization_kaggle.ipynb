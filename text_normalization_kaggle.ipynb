{
 "cells": [
  {
   "cell_type": "code",
   "execution_count": 1,
   "metadata": {
    "ExecuteTime": {
     "end_time": "2018-09-09T23:34:30.110858Z",
     "start_time": "2018-09-09T23:34:30.108854Z"
    }
   },
   "outputs": [],
   "source": [
    "# https://www.kaggle.com/c/text-normalization-challenge-english-language"
   ]
  },
  {
   "cell_type": "code",
   "execution_count": 1,
   "metadata": {
    "ExecuteTime": {
     "end_time": "2018-09-10T08:34:08.625632Z",
     "start_time": "2018-09-10T08:34:00.356559Z"
    }
   },
   "outputs": [
    {
     "name": "stderr",
     "output_type": "stream",
     "text": [
      "C:\\Users\\Ranet\\Anaconda3\\lib\\site-packages\\h5py\\__init__.py:36: FutureWarning: Conversion of the second argument of issubdtype from `float` to `np.floating` is deprecated. In future, it will be treated as `np.float64 == np.dtype(float).type`.\n",
      "  from ._conv import register_converters as _register_converters\n",
      "Using TensorFlow backend.\n"
     ]
    }
   ],
   "source": [
    "import pickle as pkl\n",
    "import numpy as np\n",
    "from pathlib import Path\n",
    "import csv\n",
    "from sklearn.model_selection import train_test_split\n",
    "import itertools\n",
    "from keras.preprocessing.text import Tokenizer\n",
    "from keras.preprocessing.sequence import pad_sequences\n",
    "from keras.utils import to_categorical\n",
    "from tqdm import tqdm"
   ]
  },
  {
   "cell_type": "code",
   "execution_count": 2,
   "metadata": {
    "ExecuteTime": {
     "end_time": "2018-09-10T08:34:08.629646Z",
     "start_time": "2018-09-10T08:34:08.626636Z"
    }
   },
   "outputs": [],
   "source": [
    "PATH = Path('DATA')\n",
    "NUM_CLASSES = 100\n",
    "MAX_LEN = 50"
   ]
  },
  {
   "cell_type": "markdown",
   "metadata": {},
   "source": [
    "## Read data"
   ]
  },
  {
   "cell_type": "code",
   "execution_count": 3,
   "metadata": {
    "ExecuteTime": {
     "end_time": "2018-09-10T08:34:20.401332Z",
     "start_time": "2018-09-10T08:34:08.631151Z"
    }
   },
   "outputs": [
    {
     "name": "stdout",
     "output_type": "stream",
     "text": [
      "Num examples: 9918441 9918441\n",
      "Num classes:  471587\n"
     ]
    }
   ],
   "source": [
    "x, y = [], []\n",
    "with open(PATH/'kaggle_data/en_train.csv', newline='', encoding='utf8') as csvfile:\n",
    "    spamreader = csv.reader(csvfile, delimiter=',')\n",
    "    for i, row in enumerate(spamreader):\n",
    "        if i > 0:\n",
    "            x.append(row[3])\n",
    "            y.append(row[4])\n",
    "\n",
    "print('Num examples:', len(x), len(y))\n",
    "print('Num classes: ', len(set(y)))\n",
    "\n",
    "\n",
    "#x_trn, x_val, y_trn, y_val = train_test_split(x, y, test_size=0.05, random_state=42)\n",
    "#pkl.dump([x_trn, y_trn, x_val, y_val], open(PATH/'xt_yt_xv_yv.pkl', 'wb'))"
   ]
  },
  {
   "cell_type": "markdown",
   "metadata": {
    "heading_collapsed": true
   },
   "source": [
    "## Process data"
   ]
  },
  {
   "cell_type": "markdown",
   "metadata": {
    "heading_collapsed": true,
    "hidden": true
   },
   "source": [
    "#### Inspect data"
   ]
  },
  {
   "cell_type": "code",
   "execution_count": 50,
   "metadata": {
    "ExecuteTime": {
     "end_time": "2018-09-08T09:13:23.403720Z",
     "start_time": "2018-09-08T09:13:23.399711Z"
    },
    "hidden": true
   },
   "outputs": [
    {
     "name": "stdout",
     "output_type": "stream",
     "text": [
      "\n",
      "############## Train data:\n",
      "2006 - two thousand six\n",
      "IUCN - i u c n\n",
      "Red - Red\n",
      "List - List\n",
      "of - of\n"
     ]
    }
   ],
   "source": [
    "print('\\n############## Train data:')\n",
    "for i in range(10, 15):\n",
    "    print(x[i], '-', y[i])"
   ]
  },
  {
   "cell_type": "code",
   "execution_count": 51,
   "metadata": {
    "ExecuteTime": {
     "end_time": "2018-09-08T09:13:46.363732Z",
     "start_time": "2018-09-08T09:13:44.647778Z"
    },
    "hidden": true
   },
   "outputs": [
    {
     "name": "stdout",
     "output_type": "stream",
     "text": [
      "1057\n",
      "3767\n"
     ]
    }
   ],
   "source": [
    "# Get longest words\n",
    "print(max([len(x) for x in x]))\n",
    "print(max([len(x) for x in y]))\n",
    "# Clearly has some abnormally long sequences "
   ]
  },
  {
   "cell_type": "code",
   "execution_count": 52,
   "metadata": {
    "ExecuteTime": {
     "end_time": "2018-09-08T09:13:57.709637Z",
     "start_time": "2018-09-08T09:13:54.159259Z"
    },
    "hidden": true
   },
   "outputs": [],
   "source": [
    "sorted_len_x = sorted(x, key=len)\n",
    "sorted_len_y = sorted(y, key=len)"
   ]
  },
  {
   "cell_type": "code",
   "execution_count": 53,
   "metadata": {
    "ExecuteTime": {
     "end_time": "2018-09-08T09:13:58.980660Z",
     "start_time": "2018-09-08T09:13:58.977654Z"
    },
    "hidden": true
   },
   "outputs": [
    {
     "name": "stdout",
     "output_type": "stream",
     "text": [
      "http://cfpub.epa.gov/ncea/iris/index.cfm\n",
      "nine trillion seven hundred eighty billion eight hundred four million seven hundred thirty seven thousand seven hundred forty six\n"
     ]
    }
   ],
   "source": [
    "# The outputs contain links and very long numbers, the character based model should have around 130 max characters\n",
    "print(sorted_len_x[-650])\n",
    "print(sorted_len_y[-650])"
   ]
  },
  {
   "cell_type": "markdown",
   "metadata": {
    "hidden": true
   },
   "source": [
    "#### Tokenize data"
   ]
  },
  {
   "cell_type": "code",
   "execution_count": 4,
   "metadata": {
    "ExecuteTime": {
     "end_time": "2018-09-10T08:36:06.881221Z",
     "start_time": "2018-09-10T08:34:20.402837Z"
    },
    "hidden": true
   },
   "outputs": [
    {
     "name": "stderr",
     "output_type": "stream",
     "text": [
      "9918441it [00:08, 1192725.56it/s]\n"
     ]
    },
    {
     "name": "stdout",
     "output_type": "stream",
     "text": [
      "19\n"
     ]
    }
   ],
   "source": [
    "x_t = []\n",
    "y_t = []\n",
    "\n",
    "for it, (xi, yi) in tqdm(enumerate(zip(x, y))):\n",
    "    # We use \"tab\" as the \"start sequence\" character\n",
    "    # for the targets, and \"\\n\" as \"end sequence\" character.\n",
    "    if len(xi) <= MAX_LEN and len(yi) <= MAX_LEN:\n",
    "        yi = '\\t' + yi + '\\n'\n",
    "        y_t.append(yi)\n",
    "        x_t.append(xi)\n",
    "            \n",
    "tokenizer = Tokenizer(num_words=NUM_CLASSES, filters='!\"#$%&()*+,-./:;<=>?@[\\]^_`{|}~',\n",
    "          lower=True, split='', char_level=True, oov_token='OOV')\n",
    "\n",
    "tokenizer.fit_on_texts(x_t + y_t)\n",
    "x_t = tokenizer.texts_to_sequences(x_t)\n",
    "y_t = tokenizer.texts_to_sequences(y_t)\n",
    "print(tokenizer.word_index['p'])"
   ]
  },
  {
   "cell_type": "code",
   "execution_count": 5,
   "metadata": {
    "ExecuteTime": {
     "end_time": "2018-09-10T08:37:33.765645Z",
     "start_time": "2018-09-10T08:36:06.882726Z"
    },
    "hidden": true
   },
   "outputs": [],
   "source": [
    "# Pre pad x and post pad y\n",
    "x_t_p = pad_sequences(x_t, maxlen=MAX_LEN+2, dtype='int32', padding='pre', truncating='post', value=0)\n",
    "y_t_p = pad_sequences(y_t, maxlen=MAX_LEN+2, dtype='int32', padding='post', truncating='post', value=0)"
   ]
  },
  {
   "cell_type": "code",
   "execution_count": 6,
   "metadata": {
    "ExecuteTime": {
     "end_time": "2018-09-10T08:37:33.806784Z",
     "start_time": "2018-09-10T08:37:33.777685Z"
    },
    "hidden": true
   },
   "outputs": [
    {
     "name": "stdout",
     "output_type": "stream",
     "text": [
      "3\n",
      "[ 0  0  0  0  0  0  0  0  0  0  0  0  0  0  0  0  0  0  0  0  0  0  0  0\n",
      "  0  0  0  0  0  0  0  0  0  0  0  0  0  0  0  0  0  6 15  6  7  5 12  6\n",
      " 15  2  6  2] (52,)\n",
      "[ 3  6 15  6  7  5 12  6 15  2  6  2  4  0  0  0  0  0  0  0  0  0  0  0\n",
      "  0  0  0  0  0  0  0  0  0  0  0  0  0  0  0  0  0  0  0  0  0  0  0  0\n",
      "  0  0  0  0] (52,)\n"
     ]
    }
   ],
   "source": [
    "print(tokenizer.word_index['\\t'])\n",
    "ind=8\n",
    "print(x_t_p[ind], x_t_p[ind].shape)\n",
    "print(y_t_p[ind], y_t_p[ind].shape)"
   ]
  },
  {
   "cell_type": "code",
   "execution_count": 134,
   "metadata": {
    "ExecuteTime": {
     "end_time": "2018-09-10T09:10:38.141145Z",
     "start_time": "2018-09-10T09:10:23.459449Z"
    },
    "hidden": true
   },
   "outputs": [],
   "source": [
    "encoder_input_data = x_t_p\n",
    "decoder_input_data = y_t_p\n",
    "decoder_target_data = np.zeros_like(decoder_input_data)\n",
    "\n",
    "for i, val in enumerate(decoder_input_data):\n",
    "    decoder_target_data[i][1:] = decoder_input_data[i][:-1]"
   ]
  },
  {
   "cell_type": "code",
   "execution_count": 139,
   "metadata": {
    "ExecuteTime": {
     "end_time": "2018-09-10T09:11:51.173576Z",
     "start_time": "2018-09-10T09:11:51.164545Z"
    },
    "hidden": true
   },
   "outputs": [
    {
     "name": "stdout",
     "output_type": "stream",
     "text": [
      "[ 3 25 10  8 13 13  6  7  5  6  8 11  8  6  4  0  0  0  0  0  0  0  0  0\n",
      "  0  0  0  0  0  0  0  0  0  0  0  0  0  0  0  0  0  0  0  0  0  0  0  0\n",
      "  0  0  0  0]\n",
      "[ 0  3 25 10  8 13 13  6  7  5  6  8 11  8  6  4  0  0  0  0  0  0  0  0\n",
      "  0  0  0  0  0  0  0  0  0  0  0  0  0  0  0  0  0  0  0  0  0  0  0  0\n",
      "  0  0  0  0]\n"
     ]
    }
   ],
   "source": [
    "print(decoder_input_data[0])\n",
    "print(decoder_target_data[0])"
   ]
  },
  {
   "cell_type": "code",
   "execution_count": 143,
   "metadata": {
    "ExecuteTime": {
     "end_time": "2018-09-10T09:19:39.088293Z",
     "start_time": "2018-09-10T09:19:26.131728Z"
    },
    "hidden": true
   },
   "outputs": [],
   "source": [
    "np.savez(open(PATH/'pkl/enci_deci_dect.npz', 'wb'), encoder_input_data, decoder_input_data, decoder_target_data)"
   ]
  },
  {
   "cell_type": "code",
   "execution_count": 129,
   "metadata": {
    "ExecuteTime": {
     "end_time": "2018-09-08T12:02:49.047898Z",
     "start_time": "2018-09-08T12:02:42.705882Z"
    },
    "hidden": true
   },
   "outputs": [],
   "source": [
    "# x_trn, x_val, y_trn, y_val = train_test_split(x_p_t, y_p_t, test_size=0.05, random_state=42)"
   ]
  },
  {
   "cell_type": "code",
   "execution_count": 135,
   "metadata": {
    "ExecuteTime": {
     "end_time": "2018-09-08T12:05:05.010166Z",
     "start_time": "2018-09-08T12:04:50.691396Z"
    },
    "hidden": true
   },
   "outputs": [],
   "source": [
    "# pkl.dump([x_trn, y_trn, x_val, y_val], open(PATH/'xt_yt_xv_yv.pkl', 'wb'), protocol=4)"
   ]
  },
  {
   "cell_type": "markdown",
   "metadata": {
    "heading_collapsed": true
   },
   "source": [
    "## Load data"
   ]
  },
  {
   "cell_type": "code",
   "execution_count": 146,
   "metadata": {
    "ExecuteTime": {
     "end_time": "2018-09-10T09:21:31.423663Z",
     "start_time": "2018-09-10T09:21:31.412626Z"
    },
    "hidden": true
   },
   "outputs": [],
   "source": [
    "with open(PATH/'pkl/enci_deci_dect.npz', 'rb') as f:\n",
    "    encoder_input_data, decoder_input_data, decoder_target_data = np.load(f)"
   ]
  },
  {
   "cell_type": "code",
   "execution_count": 10,
   "metadata": {
    "ExecuteTime": {
     "end_time": "2018-09-10T07:15:04.247275Z",
     "start_time": "2018-09-10T07:14:57.706510Z"
    },
    "hidden": true
   },
   "outputs": [],
   "source": [
    "with open(PATH/'pkl/xt_yt_xv_yv.pkl', 'rb') as f:\n",
    "    x_trn, y_trn, x_val, y_val = pkl.load(f)"
   ]
  },
  {
   "cell_type": "code",
   "execution_count": null,
   "metadata": {
    "hidden": true
   },
   "outputs": [],
   "source": [
    "for i, (input_text, target_text) in enumerate(zip(x_t, y_t)):\n",
    "    for t, char in enumerate(input_text):\n",
    "        encoder_input_data[i, t, input_token_index[char]] = 1.\n",
    "    for t, char in enumerate(target_text):\n",
    "        # decoder_target_data is ahead of decoder_input_data by one timestep\n",
    "        decoder_input_data[i, t, target_token_index[char]] = 1.\n",
    "        if t > 0:\n",
    "            # decoder_target_data will be ahead by one timestep\n",
    "            # and will not include the start character.\n",
    "            decoder_target_data[i, t - 1, target_token_index[char]] = 1."
   ]
  }
 ],
 "metadata": {
  "kernelspec": {
   "display_name": "Python 3",
   "language": "python",
   "name": "python3"
  },
  "language_info": {
   "codemirror_mode": {
    "name": "ipython",
    "version": 3
   },
   "file_extension": ".py",
   "mimetype": "text/x-python",
   "name": "python",
   "nbconvert_exporter": "python",
   "pygments_lexer": "ipython3",
   "version": "3.6.4"
  }
 },
 "nbformat": 4,
 "nbformat_minor": 2
}
